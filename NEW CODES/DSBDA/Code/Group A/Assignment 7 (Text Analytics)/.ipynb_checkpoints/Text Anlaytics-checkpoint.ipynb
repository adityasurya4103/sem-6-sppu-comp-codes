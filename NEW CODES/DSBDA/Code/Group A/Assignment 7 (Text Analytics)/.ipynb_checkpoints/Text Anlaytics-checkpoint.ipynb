{
 "cells": [
  {
   "cell_type": "code",
   "execution_count": 2,
   "id": "of0iiwZItlrw",
   "metadata": {
    "id": "of0iiwZItlrw"
   },
   "outputs": [
    {
     "name": "stdout",
     "output_type": "stream",
     "text": [
      "Collecting nltk\n",
      "  Downloading nltk-3.8.1-py3-none-any.whl (1.5 MB)\n",
      "     ---------------------------------------- 0.0/1.5 MB ? eta -:--:--\n",
      "     ---------------------------------------- 0.0/1.5 MB ? eta -:--:--\n",
      "     -- ------------------------------------- 0.1/1.5 MB 1.7 MB/s eta 0:00:01\n",
      "     ------- -------------------------------- 0.3/1.5 MB 2.9 MB/s eta 0:00:01\n",
      "     ------------- -------------------------- 0.5/1.5 MB 3.5 MB/s eta 0:00:01\n",
      "     ------------------- -------------------- 0.7/1.5 MB 3.9 MB/s eta 0:00:01\n",
      "     -------------------------- ------------- 1.0/1.5 MB 4.3 MB/s eta 0:00:01\n",
      "     --------------------------------- ------ 1.2/1.5 MB 4.4 MB/s eta 0:00:01\n",
      "     ---------------------------------------- 1.5/1.5 MB 4.6 MB/s eta 0:00:00\n",
      "Collecting click (from nltk)\n",
      "  Downloading click-8.1.7-py3-none-any.whl.metadata (3.0 kB)\n",
      "Requirement already satisfied: joblib in c:\\users\\hardik\\appdata\\local\\programs\\python\\python312\\lib\\site-packages (from nltk) (1.3.2)\n",
      "Collecting regex>=2021.8.3 (from nltk)\n",
      "  Downloading regex-2023.12.25-cp312-cp312-win_amd64.whl.metadata (41 kB)\n",
      "     ---------------------------------------- 0.0/42.0 kB ? eta -:--:--\n",
      "     ---------------------------------------- 42.0/42.0 kB ? eta 0:00:00\n",
      "Collecting tqdm (from nltk)\n",
      "  Downloading tqdm-4.66.1-py3-none-any.whl.metadata (57 kB)\n",
      "     ---------------------------------------- 0.0/57.6 kB ? eta -:--:--\n",
      "     ---------------------------------------- 57.6/57.6 kB ? eta 0:00:00\n",
      "Requirement already satisfied: colorama in c:\\users\\hardik\\appdata\\local\\programs\\python\\python312\\lib\\site-packages (from click->nltk) (0.4.6)\n",
      "Downloading regex-2023.12.25-cp312-cp312-win_amd64.whl (268 kB)\n",
      "   ---------------------------------------- 0.0/268.9 kB ? eta -:--:--\n",
      "   ---------------------------------------  266.2/268.9 kB 8.3 MB/s eta 0:00:01\n",
      "   ---------------------------------------- 268.9/268.9 kB 5.6 MB/s eta 0:00:00\n",
      "Downloading click-8.1.7-py3-none-any.whl (97 kB)\n",
      "   ---------------------------------------- 0.0/97.9 kB ? eta -:--:--\n",
      "   ---------------------------------------- 97.9/97.9 kB 5.8 MB/s eta 0:00:00\n",
      "Downloading tqdm-4.66.1-py3-none-any.whl (78 kB)\n",
      "   ---------------------------------------- 0.0/78.3 kB ? eta -:--:--\n",
      "   ---------------------------------------- 78.3/78.3 kB ? eta 0:00:00\n",
      "Installing collected packages: tqdm, regex, click, nltk\n",
      "Successfully installed click-8.1.7 nltk-3.8.1 regex-2023.12.25 tqdm-4.66.1\n"
     ]
    },
    {
     "name": "stderr",
     "output_type": "stream",
     "text": [
      "[nltk_data] Downloading package punkt to\n",
      "[nltk_data]     C:\\Users\\Hardik\\AppData\\Roaming\\nltk_data...\n",
      "[nltk_data]   Package punkt is already up-to-date!\n"
     ]
    },
    {
     "data": {
      "text/plain": [
       "True"
      ]
     },
     "execution_count": 2,
     "metadata": {},
     "output_type": "execute_result"
    }
   ],
   "source": [
    "!pip install nltk\n",
    "import nltk\n",
    "nltk.download('punkt')"
   ]
  },
  {
   "cell_type": "code",
   "execution_count": 3,
   "id": "30e7386f",
   "metadata": {
    "id": "30e7386f"
   },
   "outputs": [
    {
     "name": "stdout",
     "output_type": "stream",
     "text": [
      "['Welcome', 'to', 'the', 'Python', 'Programming', 'at', 'Indeed', 'Insprining', 'Infotech']\n"
     ]
    }
   ],
   "source": [
    "import nltk\n",
    "from nltk.tokenize import word_tokenize\n",
    "text = \"Welcome to the Python Programming at Indeed Insprining Infotech\"\n",
    "print(word_tokenize(text))"
   ]
  },
  {
   "cell_type": "code",
   "execution_count": 4,
   "id": "c00a2c90",
   "metadata": {
    "id": "c00a2c90"
   },
   "outputs": [
    {
     "name": "stdout",
     "output_type": "stream",
     "text": [
      "['Hello Everyone.', 'Welcome to the Python Programming']\n"
     ]
    }
   ],
   "source": [
    "from nltk.tokenize import sent_tokenize\n",
    "text = \"Hello Everyone. Welcome to the Python Programming\"\n",
    "print(sent_tokenize(text))"
   ]
  },
  {
   "cell_type": "code",
   "execution_count": 5,
   "id": "484f9a1a",
   "metadata": {
    "id": "484f9a1a"
   },
   "outputs": [
    {
     "name": "stdout",
     "output_type": "stream",
     "text": [
      "clean\n",
      "clean\n",
      "clean\n",
      "clean\n"
     ]
    }
   ],
   "source": [
    "from nltk.stem import PorterStemmer\n",
    "# words = ['Wait','Waiting','Waited','Waits']\n",
    "words = ['clean','cleaning','cleans','cleaned']\n",
    "ps = PorterStemmer()\n",
    "for w in words:\n",
    "    words=ps.stem(w)\n",
    "    print(words)"
   ]
  },
  {
   "cell_type": "code",
   "execution_count": 6,
   "id": "757a2a87",
   "metadata": {
    "id": "757a2a87"
   },
   "outputs": [
    {
     "name": "stdout",
     "output_type": "stream",
     "text": [
      "Stemming for  studies is studi\n",
      "Stemming for  studying is studi\n",
      "Stemming for  floors is floor\n",
      "Stemming for  cry is cri\n"
     ]
    }
   ],
   "source": [
    "import nltk\n",
    "from nltk.stem.porter import PorterStemmer\n",
    "porter_stemmer = PorterStemmer()\n",
    "text  = \"studies studying floors cry\"\n",
    "tokenization = nltk.word_tokenize(text)\n",
    "for w in tokenization:\n",
    "    print('Stemming for ', w,'is',porter_stemmer.stem(w))"
   ]
  },
  {
   "cell_type": "code",
   "execution_count": 7,
   "id": "Z1b39DQqtz27",
   "metadata": {
    "id": "Z1b39DQqtz27"
   },
   "outputs": [
    {
     "name": "stderr",
     "output_type": "stream",
     "text": [
      "[nltk_data] Downloading package wordnet to\n",
      "[nltk_data]     C:\\Users\\Hardik\\AppData\\Roaming\\nltk_data...\n",
      "[nltk_data]   Package wordnet is already up-to-date!\n",
      "[nltk_data] Downloading package omw-1.4 to\n",
      "[nltk_data]     C:\\Users\\Hardik\\AppData\\Roaming\\nltk_data...\n",
      "[nltk_data]   Package omw-1.4 is already up-to-date!\n"
     ]
    },
    {
     "data": {
      "text/plain": [
       "True"
      ]
     },
     "execution_count": 7,
     "metadata": {},
     "output_type": "execute_result"
    }
   ],
   "source": [
    "import nltk\n",
    "nltk.download('wordnet')\n",
    "nltk.download('omw-1.4')"
   ]
  },
  {
   "cell_type": "code",
   "execution_count": 8,
   "id": "d2525888",
   "metadata": {
    "id": "d2525888"
   },
   "outputs": [
    {
     "name": "stdout",
     "output_type": "stream",
     "text": [
      "Lemma for  studies is study\n",
      "Lemma for  study is study\n",
      "Lemma for  floors is floor\n",
      "Lemma for  cry is cry\n"
     ]
    }
   ],
   "source": [
    "import nltk\n",
    "from nltk.stem import WordNetLemmatizer\n",
    "Wordnet_lemmatizer = WordNetLemmatizer()\n",
    "text  = \"studies study floors cry\"\n",
    "tokenization = nltk.word_tokenize(text)\n",
    "for w in tokenization:\n",
    "    print('Lemma for ', w,'is',Wordnet_lemmatizer.lemmatize(w))"
   ]
  },
  {
   "cell_type": "code",
   "execution_count": 9,
   "id": "IJR_5QtwuDsa",
   "metadata": {
    "id": "IJR_5QtwuDsa"
   },
   "outputs": [
    {
     "name": "stderr",
     "output_type": "stream",
     "text": [
      "[nltk_data] Downloading package stopwords to\n",
      "[nltk_data]     C:\\Users\\Hardik\\AppData\\Roaming\\nltk_data...\n",
      "[nltk_data]   Package stopwords is already up-to-date!\n"
     ]
    },
    {
     "data": {
      "text/plain": [
       "True"
      ]
     },
     "execution_count": 9,
     "metadata": {},
     "output_type": "execute_result"
    }
   ],
   "source": [
    "nltk.download('stopwords')"
   ]
  },
  {
   "cell_type": "code",
   "execution_count": 10,
   "id": "ae25d08f",
   "metadata": {
    "id": "ae25d08f"
   },
   "outputs": [
    {
     "name": "stdout",
     "output_type": "stream",
     "text": [
      "['AI', 'introduced', 'year', '1956', 'gained', 'popularity', 'recently', '.']\n"
     ]
    }
   ],
   "source": [
    "from nltk.tokenize import sent_tokenize, word_tokenize\n",
    "from nltk.corpus import stopwords\n",
    "\n",
    "data = 'AI was introduced in the year 1956 but it gained popularity recently.'\n",
    "stopwords = set(stopwords.words('english'))\n",
    "words = word_tokenize(data)\n",
    "wordsFiltered = []\n",
    "\n",
    "for w in words:\n",
    "    if w not in stopwords:\n",
    "        wordsFiltered.append(w)\n",
    "        \n",
    "print(wordsFiltered)"
   ]
  },
  {
   "cell_type": "code",
   "execution_count": 11,
   "id": "b3df1cb3",
   "metadata": {
    "id": "b3df1cb3"
   },
   "outputs": [
    {
     "name": "stdout",
     "output_type": "stream",
     "text": [
      "179\n",
      "{'most', 'his', 'up', 'down', 'some', 'own', 'itself', 'was', 'yourselves', \"didn't\", 'isn', 'do', \"doesn't\", 'shan', 'after', 'than', 'why', 'only', 'have', \"you're\", \"weren't\", 'o', 'it', \"needn't\", \"you'd\", 'them', 'out', 've', 'doing', 'from', \"shan't\", 'weren', \"wasn't\", 'during', \"you've\", 'this', 'before', 'there', 'same', 'further', 'themselves', 'm', \"won't\", 'haven', 't', 'himself', 'to', 'until', 'those', 'her', \"hadn't\", 'mightn', 'and', 'over', 'few', 'now', 'where', 'yourself', 'can', 'has', 'hasn', 'shouldn', 'when', 'on', 'is', 'the', 'did', 'you', 'theirs', 'does', \"she's\", 'for', 'herself', 'how', 'he', 'under', 'should', 'wasn', 'not', 'didn', 'me', 'into', 'will', 'wouldn', 'off', 'too', 'be', 'against', 'both', 'here', 'any', \"you'll\", 'had', 'nor', \"shouldn't\", 'your', 'hers', \"haven't\", 'or', 'very', 'are', 'between', 'all', \"that'll\", 'couldn', 'above', 'a', 'more', 'ma', 'at', 'if', 'just', 'our', 'these', 'being', 'we', 'through', 'again', 'no', 'such', 'll', 'don', \"mustn't\", \"should've\", 'd', 'they', 'each', 'then', 'which', \"aren't\", 'yours', 'who', 'but', 'my', 'whom', 'mustn', 'so', 'about', 'once', 'because', 'below', 'what', 'of', 'hadn', 'ourselves', 'as', 'ain', 'she', 'won', \"wouldn't\", 'their', \"couldn't\", \"hasn't\", 'by', 'other', \"isn't\", 'with', 'while', 're', 'y', 'needn', 'that', 'having', 'i', 'aren', 'doesn', 'ours', 'in', 's', 'him', 'were', 'an', 'its', 'myself', \"don't\", 'am', \"it's\", 'been', \"mightn't\"}\n"
     ]
    }
   ],
   "source": [
    "print(len(stopwords))\n",
    "print(stopwords)"
   ]
  },
  {
   "cell_type": "code",
   "execution_count": 12,
   "id": "2c86e8eb",
   "metadata": {
    "executionInfo": {
     "elapsed": 8,
     "status": "ok",
     "timestamp": 1684929017617,
     "user": {
      "displayName": "hardik kotangale",
      "userId": "06213485721285416285"
     },
     "user_tz": -330
    },
    "id": "2c86e8eb"
   },
   "outputs": [],
   "source": [
    "import nltk\n",
    "from nltk.tokenize import word_tokenize\n",
    "from nltk.corpus import stopwords\n",
    "from nltk.stem import PorterStemmer, WordNetLemmatizer\n",
    "from nltk import pos_tag"
   ]
  },
  {
   "cell_type": "code",
   "execution_count": 13,
   "id": "984ab773",
   "metadata": {
    "executionInfo": {
     "elapsed": 8,
     "status": "ok",
     "timestamp": 1684929017618,
     "user": {
      "displayName": "hardik kotangale",
      "userId": "06213485721285416285"
     },
     "user_tz": -330
    },
    "id": "984ab773"
   },
   "outputs": [],
   "source": [
    "document = \"This is an example document that we will use to demonstrate document preprocessing.\""
   ]
  },
  {
   "cell_type": "code",
   "execution_count": 14,
   "id": "e2d87a82",
   "metadata": {
    "executionInfo": {
     "elapsed": 8,
     "status": "ok",
     "timestamp": 1684929017618,
     "user": {
      "displayName": "hardik kotangale",
      "userId": "06213485721285416285"
     },
     "user_tz": -330
    },
    "id": "e2d87a82"
   },
   "outputs": [],
   "source": [
    "tokens = word_tokenize(document)"
   ]
  },
  {
   "cell_type": "code",
   "execution_count": 15,
   "id": "ca8b7015",
   "metadata": {
    "id": "ca8b7015"
   },
   "outputs": [
    {
     "data": {
      "text/plain": [
       "['This',\n",
       " 'is',\n",
       " 'an',\n",
       " 'example',\n",
       " 'document',\n",
       " 'that',\n",
       " 'we',\n",
       " 'will',\n",
       " 'use',\n",
       " 'to',\n",
       " 'demonstrate',\n",
       " 'document',\n",
       " 'preprocessing',\n",
       " '.']"
      ]
     },
     "execution_count": 15,
     "metadata": {},
     "output_type": "execute_result"
    }
   ],
   "source": [
    "tokens"
   ]
  },
  {
   "cell_type": "code",
   "execution_count": 16,
   "id": "0e184c68",
   "metadata": {
    "id": "0e184c68"
   },
   "outputs": [
    {
     "name": "stderr",
     "output_type": "stream",
     "text": [
      "[nltk_data] Downloading package averaged_perceptron_tagger to\n",
      "[nltk_data]     C:\\Users\\Hardik\\AppData\\Roaming\\nltk_data...\n",
      "[nltk_data]   Package averaged_perceptron_tagger is already up-to-\n",
      "[nltk_data]       date!\n"
     ]
    },
    {
     "data": {
      "text/plain": [
       "True"
      ]
     },
     "execution_count": 16,
     "metadata": {},
     "output_type": "execute_result"
    }
   ],
   "source": [
    "import nltk\n",
    "nltk.download('averaged_perceptron_tagger')"
   ]
  },
  {
   "cell_type": "code",
   "execution_count": 17,
   "id": "cc62bc9b",
   "metadata": {
    "executionInfo": {
     "elapsed": 532,
     "status": "ok",
     "timestamp": 1684929018145,
     "user": {
      "displayName": "hardik kotangale",
      "userId": "06213485721285416285"
     },
     "user_tz": -330
    },
    "id": "cc62bc9b"
   },
   "outputs": [],
   "source": [
    "pos_tags = pos_tag(tokens)"
   ]
  },
  {
   "cell_type": "code",
   "execution_count": 18,
   "id": "_O5mmUuouPid",
   "metadata": {
    "id": "_O5mmUuouPid"
   },
   "outputs": [
    {
     "data": {
      "text/plain": [
       "[('This', 'DT'),\n",
       " ('is', 'VBZ'),\n",
       " ('an', 'DT'),\n",
       " ('example', 'NN'),\n",
       " ('document', 'NN'),\n",
       " ('that', 'IN'),\n",
       " ('we', 'PRP'),\n",
       " ('will', 'MD'),\n",
       " ('use', 'VB'),\n",
       " ('to', 'TO'),\n",
       " ('demonstrate', 'VB'),\n",
       " ('document', 'NN'),\n",
       " ('preprocessing', 'NN'),\n",
       " ('.', '.')]"
      ]
     },
     "execution_count": 18,
     "metadata": {},
     "output_type": "execute_result"
    }
   ],
   "source": [
    "pos_tags"
   ]
  },
  {
   "cell_type": "code",
   "execution_count": 19,
   "id": "86c4662e",
   "metadata": {
    "executionInfo": {
     "elapsed": 10,
     "status": "ok",
     "timestamp": 1684929018146,
     "user": {
      "displayName": "hardik kotangale",
      "userId": "06213485721285416285"
     },
     "user_tz": -330
    },
    "id": "86c4662e"
   },
   "outputs": [],
   "source": [
    "stop_words = set(stopwords.words('english'))\n",
    "filtered_tokens = [word for word in tokens if not word.lower() in stop_words]"
   ]
  },
  {
   "cell_type": "code",
   "execution_count": 20,
   "id": "8aabf51c",
   "metadata": {
    "executionInfo": {
     "elapsed": 10,
     "status": "ok",
     "timestamp": 1684929018146,
     "user": {
      "displayName": "hardik kotangale",
      "userId": "06213485721285416285"
     },
     "user_tz": -330
    },
    "id": "8aabf51c"
   },
   "outputs": [],
   "source": [
    "ps = PorterStemmer()\n",
    "stemmed_tokens = [ps.stem(word) for word in filtered_tokens]"
   ]
  },
  {
   "cell_type": "code",
   "execution_count": 21,
   "id": "4a6f5953",
   "metadata": {
    "executionInfo": {
     "elapsed": 9,
     "status": "ok",
     "timestamp": 1684929018146,
     "user": {
      "displayName": "hardik kotangale",
      "userId": "06213485721285416285"
     },
     "user_tz": -330
    },
    "id": "4a6f5953"
   },
   "outputs": [],
   "source": [
    "wnl = WordNetLemmatizer()\n",
    "lemmatized_tokens = [wnl.lemmatize(word) for word in filtered_tokens]"
   ]
  },
  {
   "cell_type": "code",
   "execution_count": 22,
   "id": "5cd5d204",
   "metadata": {
    "id": "5cd5d204"
   },
   "outputs": [
    {
     "name": "stdout",
     "output_type": "stream",
     "text": [
      "Tokens:  ['This', 'is', 'an', 'example', 'document', 'that', 'we', 'will', 'use', 'to', 'demonstrate', 'document', 'preprocessing', '.']\n",
      "POS tags:  [('This', 'DT'), ('is', 'VBZ'), ('an', 'DT'), ('example', 'NN'), ('document', 'NN'), ('that', 'IN'), ('we', 'PRP'), ('will', 'MD'), ('use', 'VB'), ('to', 'TO'), ('demonstrate', 'VB'), ('document', 'NN'), ('preprocessing', 'NN'), ('.', '.')]\n",
      "Filtered tokens:  ['example', 'document', 'use', 'demonstrate', 'document', 'preprocessing', '.']\n",
      "Stemmed tokens:  ['exampl', 'document', 'use', 'demonstr', 'document', 'preprocess', '.']\n",
      "Lemmatized tokens:  ['example', 'document', 'use', 'demonstrate', 'document', 'preprocessing', '.']\n"
     ]
    }
   ],
   "source": [
    "print(\"Tokens: \", tokens)\n",
    "print(\"POS tags: \", pos_tags)\n",
    "print(\"Filtered tokens: \", filtered_tokens)\n",
    "print(\"Stemmed tokens: \", stemmed_tokens)\n",
    "print(\"Lemmatized tokens: \", lemmatized_tokens)"
   ]
  },
  {
   "cell_type": "code",
   "execution_count": 23,
   "id": "375692a0",
   "metadata": {
    "executionInfo": {
     "elapsed": 8,
     "status": "ok",
     "timestamp": 1684929018147,
     "user": {
      "displayName": "hardik kotangale",
      "userId": "06213485721285416285"
     },
     "user_tz": -330
    },
    "id": "375692a0"
   },
   "outputs": [],
   "source": [
    "import math\n",
    "from collections import Counter"
   ]
  },
  {
   "cell_type": "code",
   "execution_count": 24,
   "id": "uX0WL3Ma4HTZ",
   "metadata": {
    "executionInfo": {
     "elapsed": 8,
     "status": "ok",
     "timestamp": 1684929018147,
     "user": {
      "displayName": "hardik kotangale",
      "userId": "06213485721285416285"
     },
     "user_tz": -330
    },
    "id": "uX0WL3Ma4HTZ"
   },
   "outputs": [],
   "source": [
    "corpus = [\n",
    "    'The quick brown fox jumps over the lazy dog',\n",
    "    'The brown fox is quick',\n",
    "    'The lazy dog is sleeping'\n",
    "]"
   ]
  },
  {
   "cell_type": "code",
   "execution_count": 25,
   "id": "9iNWSB034S6I",
   "metadata": {
    "executionInfo": {
     "elapsed": 8,
     "status": "ok",
     "timestamp": 1684929018147,
     "user": {
      "displayName": "hardik kotangale",
      "userId": "06213485721285416285"
     },
     "user_tz": -330
    },
    "id": "9iNWSB034S6I"
   },
   "outputs": [],
   "source": [
    "tokenized_docs = [doc.lower().split() for doc in corpus]"
   ]
  },
  {
   "cell_type": "code",
   "execution_count": 26,
   "id": "TO8oDyF_4VR4",
   "metadata": {
    "executionInfo": {
     "elapsed": 8,
     "status": "ok",
     "timestamp": 1684929018147,
     "user": {
      "displayName": "hardik kotangale",
      "userId": "06213485721285416285"
     },
     "user_tz": -330
    },
    "id": "TO8oDyF_4VR4"
   },
   "outputs": [],
   "source": [
    "tf_docs = [Counter(tokens) for tokens in tokenized_docs]"
   ]
  },
  {
   "cell_type": "code",
   "execution_count": 27,
   "id": "mwbYVp9x4Y-B",
   "metadata": {
    "executionInfo": {
     "elapsed": 7,
     "status": "ok",
     "timestamp": 1684929018147,
     "user": {
      "displayName": "hardik kotangale",
      "userId": "06213485721285416285"
     },
     "user_tz": -330
    },
    "id": "mwbYVp9x4Y-B"
   },
   "outputs": [],
   "source": [
    "n_docs = len(corpus)\n",
    "idf = {}\n",
    "for tokens in tokenized_docs:\n",
    "    for token in set(tokens):\n",
    "        idf[token] = idf.get(token, 0) + 1\n",
    "for token in idf:\n",
    "    idf[token] = math.log(n_docs / idf[token])"
   ]
  },
  {
   "cell_type": "code",
   "execution_count": 28,
   "id": "QF1Si3vv4bCE",
   "metadata": {
    "executionInfo": {
     "elapsed": 8,
     "status": "ok",
     "timestamp": 1684929018148,
     "user": {
      "displayName": "hardik kotangale",
      "userId": "06213485721285416285"
     },
     "user_tz": -330
    },
    "id": "QF1Si3vv4bCE"
   },
   "outputs": [],
   "source": [
    "tfidf_docs = []\n",
    "for tf_doc in tf_docs:\n",
    "    tfidf_doc = {}\n",
    "    for token, freq in tf_doc.items():\n",
    "        tfidf_doc[token] = freq * idf[token]\n",
    "    tfidf_docs.append(tfidf_doc)\n"
   ]
  },
  {
   "cell_type": "code",
   "execution_count": 29,
   "id": "cWDMLXpP4cZu",
   "metadata": {
    "id": "cWDMLXpP4cZu"
   },
   "outputs": [
    {
     "name": "stdout",
     "output_type": "stream",
     "text": [
      "Document 1: {'the': 0.0, 'quick': 0.4054651081081644, 'brown': 0.4054651081081644, 'fox': 0.4054651081081644, 'jumps': 1.0986122886681098, 'over': 1.0986122886681098, 'lazy': 0.4054651081081644, 'dog': 0.4054651081081644}\n",
      "Document 2: {'the': 0.0, 'brown': 0.4054651081081644, 'fox': 0.4054651081081644, 'is': 0.4054651081081644, 'quick': 0.4054651081081644}\n",
      "Document 3: {'the': 0.0, 'lazy': 0.4054651081081644, 'dog': 0.4054651081081644, 'is': 0.4054651081081644, 'sleeping': 1.0986122886681098}\n"
     ]
    }
   ],
   "source": [
    "for i, tfidf_doc in enumerate(tfidf_docs):\n",
    "    print(f\"Document {i+1}: {tfidf_doc}\")"
   ]
  }
 ],
 "metadata": {
  "colab": {
   "provenance": []
  },
  "kernelspec": {
   "display_name": "Python 3 (ipykernel)",
   "language": "python",
   "name": "python3"
  },
  "language_info": {
   "codemirror_mode": {
    "name": "ipython",
    "version": 3
   },
   "file_extension": ".py",
   "mimetype": "text/x-python",
   "name": "python",
   "nbconvert_exporter": "python",
   "pygments_lexer": "ipython3",
   "version": "3.12.0"
  }
 },
 "nbformat": 4,
 "nbformat_minor": 5
}
