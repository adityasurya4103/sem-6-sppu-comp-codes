{
 "cells": [
  {
   "cell_type": "code",
   "execution_count": null,
   "id": "5640e76c",
   "metadata": {
    "id": "5640e76c"
   },
   "outputs": [],
   "source": [
    "import pandas as pd\n",
    "import numpy as np\n",
    "import matplotlib.pyplot as plt"
   ]
  },
  {
   "cell_type": "code",
   "execution_count": null,
   "id": "13c3e1b4",
   "metadata": {
    "id": "13c3e1b4"
   },
   "outputs": [],
   "source": [
    "sales = pd.read_csv('supermarket_sales.csv')"
   ]
  },
  {
   "cell_type": "code",
   "execution_count": null,
   "id": "39b4e82d",
   "metadata": {
    "id": "39b4e82d"
   },
   "outputs": [],
   "source": [
    "sales.head()"
   ]
  },
  {
   "cell_type": "code",
   "execution_count": null,
   "id": "791087bf",
   "metadata": {
    "id": "791087bf"
   },
   "outputs": [],
   "source": [
    "sales.tail()"
   ]
  },
  {
   "cell_type": "code",
   "execution_count": null,
   "id": "067844b6",
   "metadata": {
    "id": "067844b6"
   },
   "outputs": [],
   "source": [
    "sales.shape"
   ]
  },
  {
   "cell_type": "code",
   "execution_count": null,
   "id": "e26e1a1a",
   "metadata": {
    "id": "e26e1a1a"
   },
   "outputs": [],
   "source": [
    "sales.isnull().sum()"
   ]
  },
  {
   "cell_type": "code",
   "execution_count": null,
   "id": "027e7cd4",
   "metadata": {
    "id": "027e7cd4"
   },
   "outputs": [],
   "source": [
    "sales.count()"
   ]
  },
  {
   "cell_type": "code",
   "execution_count": null,
   "id": "9820ee8e",
   "metadata": {
    "id": "9820ee8e"
   },
   "outputs": [],
   "source": [
    "sales.sum()"
   ]
  },
  {
   "cell_type": "code",
   "execution_count": null,
   "id": "798ef506",
   "metadata": {
    "id": "798ef506"
   },
   "outputs": [],
   "source": [
    "sales['Total'].sum()"
   ]
  },
  {
   "cell_type": "code",
   "execution_count": null,
   "id": "a9e6464a",
   "metadata": {
    "id": "a9e6464a"
   },
   "outputs": [],
   "source": [
    "sales[['Total','gross income']].sum()"
   ]
  },
  {
   "cell_type": "code",
   "execution_count": null,
   "id": "e1db8797",
   "metadata": {
    "id": "e1db8797"
   },
   "outputs": [],
   "source": [
    "sales.mean(numeric_only=\"True\")"
   ]
  },
  {
   "cell_type": "code",
   "execution_count": null,
   "id": "4e774afb",
   "metadata": {
    "id": "4e774afb"
   },
   "outputs": [],
   "source": [
    "sales['Rating'].mean()"
   ]
  },
  {
   "cell_type": "code",
   "execution_count": null,
   "id": "05d769ea",
   "metadata": {
    "id": "05d769ea"
   },
   "outputs": [],
   "source": [
    "sales.std(numeric_only=\"True\")"
   ]
  },
  {
   "cell_type": "code",
   "execution_count": null,
   "id": "2a0b8944",
   "metadata": {
    "id": "2a0b8944"
   },
   "outputs": [],
   "source": [
    "sales['Rating'].std()"
   ]
  },
  {
   "cell_type": "code",
   "execution_count": null,
   "id": "31ef7098",
   "metadata": {
    "id": "31ef7098"
   },
   "outputs": [],
   "source": [
    "print('The Mode of : ',sales['Payment'].mode)"
   ]
  },
  {
   "cell_type": "code",
   "execution_count": null,
   "id": "343648cb",
   "metadata": {
    "id": "343648cb"
   },
   "outputs": [],
   "source": [
    "sales['Payment'].mode()  "
   ]
  },
  {
   "cell_type": "code",
   "execution_count": null,
   "id": "5fd2979d",
   "metadata": {
    "id": "5fd2979d"
   },
   "outputs": [],
   "source": [
    "sales['Quantity'].min()           "
   ]
  },
  {
   "cell_type": "code",
   "execution_count": null,
   "id": "9b251a27",
   "metadata": {
    "id": "9b251a27"
   },
   "outputs": [],
   "source": [
    "sales['Quantity'].max()"
   ]
  },
  {
   "cell_type": "code",
   "execution_count": null,
   "id": "64201911",
   "metadata": {
    "id": "64201911"
   },
   "outputs": [],
   "source": [
    "sales['Total'].cumsum().head()     "
   ]
  },
  {
   "cell_type": "code",
   "execution_count": null,
   "id": "9da89cd4",
   "metadata": {
    "id": "9da89cd4"
   },
   "outputs": [],
   "source": [
    "sales['Total'].head()"
   ]
  },
  {
   "cell_type": "code",
   "execution_count": null,
   "id": "bcb105e0",
   "metadata": {
    "id": "bcb105e0"
   },
   "outputs": [],
   "source": [
    "median = sales['Quantity'].median()\n",
    "median"
   ]
  },
  {
   "cell_type": "code",
   "execution_count": null,
   "id": "98098f4b",
   "metadata": {
    "id": "98098f4b"
   },
   "outputs": [],
   "source": [
    "print('median quantity: ' + str(median))"
   ]
  },
  {
   "cell_type": "code",
   "execution_count": null,
   "id": "c2e90820",
   "metadata": {
    "id": "c2e90820"
   },
   "outputs": [],
   "source": [
    "var = sales['Quantity'].var()\n",
    "var"
   ]
  },
  {
   "cell_type": "code",
   "execution_count": null,
   "id": "67f50fc3",
   "metadata": {
    "id": "67f50fc3"
   },
   "outputs": [],
   "source": [
    "print('var of quantity: ' + str(var))"
   ]
  },
  {
   "cell_type": "code",
   "execution_count": null,
   "id": "73624933",
   "metadata": {
    "id": "73624933"
   },
   "outputs": [],
   "source": [
    "groupby_sum = sales.groupby(['City']).sum()\n",
    "groupby_sum"
   ]
  },
  {
   "cell_type": "code",
   "execution_count": null,
   "id": "5687544a",
   "metadata": {
    "id": "5687544a"
   },
   "outputs": [],
   "source": [
    "groupby_count = sales.groupby(['City']).count()\n",
    "groupby_count"
   ]
  },
  {
   "cell_type": "code",
   "execution_count": null,
   "id": "c8510d0c",
   "metadata": {
    "id": "c8510d0c"
   },
   "outputs": [],
   "source": [
    "groupby_sum1 = sales.groupby(['Payment']).sum()\n",
    "groupby_sum1"
   ]
  },
  {
   "cell_type": "code",
   "execution_count": null,
   "id": "dfd4ce8a",
   "metadata": {
    "id": "dfd4ce8a"
   },
   "outputs": [],
   "source": [
    "groupby_count1 = sales.groupby(['Payment']).count()\n",
    "groupby_count1"
   ]
  },
  {
   "cell_type": "code",
   "execution_count": null,
   "id": "1189820e",
   "metadata": {
    "id": "1189820e"
   },
   "outputs": [],
   "source": [
    "print('sum of values, grouped by the payment: ' + str(groupby_sum1))"
   ]
  },
  {
   "cell_type": "code",
   "execution_count": null,
   "id": "1c49bf1d",
   "metadata": {
    "id": "1c49bf1d"
   },
   "outputs": [],
   "source": [
    "print('count of values, grouped by the payment: ' + str(groupby_count1))"
   ]
  },
  {
   "cell_type": "code",
   "execution_count": null,
   "id": "87fcf8e3",
   "metadata": {
    "id": "87fcf8e3"
   },
   "outputs": [],
   "source": [
    "sales.describe() "
   ]
  },
  {
   "cell_type": "code",
   "execution_count": null,
   "id": "51089c9f",
   "metadata": {
    "id": "51089c9f"
   },
   "outputs": [],
   "source": [
    "sales.describe(include='object')"
   ]
  },
  {
   "cell_type": "code",
   "execution_count": null,
   "id": "45addc84",
   "metadata": {
    "id": "45addc84"
   },
   "outputs": [],
   "source": [
    "sales.describe(include='all')"
   ]
  },
  {
   "cell_type": "code",
   "execution_count": null,
   "id": "88710e10",
   "metadata": {
    "id": "88710e10"
   },
   "outputs": [],
   "source": [
    "import numpy as np\n",
    "import pandas as pd\n",
    "import matplotlib.pyplot as plt"
   ]
  },
  {
   "cell_type": "code",
   "execution_count": null,
   "id": "50e9a800",
   "metadata": {
    "id": "50e9a800"
   },
   "outputs": [],
   "source": [
    "iris = pd.read_csv('Iris.csv')"
   ]
  },
  {
   "cell_type": "code",
   "execution_count": null,
   "id": "1d8c1f64",
   "metadata": {
    "id": "1d8c1f64"
   },
   "outputs": [],
   "source": [
    "iris.head()"
   ]
  },
  {
   "cell_type": "code",
   "execution_count": null,
   "id": "1a23149f",
   "metadata": {
    "id": "1a23149f"
   },
   "outputs": [],
   "source": [
    "iris.tail()"
   ]
  },
  {
   "cell_type": "code",
   "execution_count": null,
   "id": "26ef082c",
   "metadata": {
    "id": "26ef082c"
   },
   "outputs": [],
   "source": [
    "iris.shape"
   ]
  },
  {
   "cell_type": "code",
   "execution_count": null,
   "id": "0f6a975a",
   "metadata": {
    "id": "0f6a975a"
   },
   "outputs": [],
   "source": [
    "print(iris.columns)"
   ]
  },
  {
   "cell_type": "code",
   "execution_count": null,
   "id": "7b339b77",
   "metadata": {
    "id": "7b339b77"
   },
   "outputs": [],
   "source": [
    "iris.isnull().sum()"
   ]
  },
  {
   "cell_type": "code",
   "execution_count": null,
   "id": "ae4be014",
   "metadata": {
    "id": "ae4be014"
   },
   "outputs": [],
   "source": [
    "iris.describe()"
   ]
  },
  {
   "cell_type": "code",
   "execution_count": null,
   "id": "52d4c7b9",
   "metadata": {
    "id": "52d4c7b9"
   },
   "outputs": [],
   "source": [
    "iris['Species'].value_counts()"
   ]
  },
  {
   "cell_type": "code",
   "execution_count": null,
   "id": "b8105702",
   "metadata": {
    "id": "b8105702"
   },
   "outputs": [],
   "source": [
    "iris.plot(kind='scatter', x='SepalLengthCm', y='SepalWidthCm')\n",
    "plt.show()"
   ]
  },
  {
   "cell_type": "code",
   "execution_count": null,
   "id": "505ff3c0",
   "metadata": {
    "id": "505ff3c0"
   },
   "outputs": [],
   "source": [
    "iris.mean(numeric_only=\"True\")"
   ]
  },
  {
   "cell_type": "code",
   "execution_count": null,
   "id": "1b22022d",
   "metadata": {
    "id": "1b22022d"
   },
   "outputs": [],
   "source": [
    "iris.Species.mode()"
   ]
  },
  {
   "cell_type": "code",
   "execution_count": null,
   "id": "fa2c53e3",
   "metadata": {
    "id": "fa2c53e3"
   },
   "outputs": [],
   "source": [
    "import seaborn as sns\n",
    "sns.set_style(\"whitegrid\")\n",
    "sns.FacetGrid(iris, hue=\"Species\", height=7).map(plt.scatter, \"SepalLengthCm\", \"SepalWidthCm\").add_legend()\n",
    "plt.show()"
   ]
  },
  {
   "cell_type": "code",
   "execution_count": null,
   "id": "b2f1381f",
   "metadata": {
    "id": "b2f1381f"
   },
   "outputs": [],
   "source": [
    "setosa_data = iris[iris['Species'] == 'Iris-setosa']\n",
    "versicolor_data = iris[iris['Species'] == 'Iris-versicolor']"
   ]
  },
  {
   "cell_type": "code",
   "execution_count": null,
   "id": "3308acd4",
   "metadata": {
    "id": "3308acd4"
   },
   "outputs": [],
   "source": [
    "setosa_data"
   ]
  },
  {
   "cell_type": "code",
   "execution_count": null,
   "id": "072c81d1",
   "metadata": {
    "id": "072c81d1"
   },
   "outputs": [],
   "source": [
    "versicolor_data"
   ]
  },
  {
   "cell_type": "code",
   "execution_count": null,
   "id": "fc38525b",
   "metadata": {
    "id": "fc38525b"
   },
   "outputs": [],
   "source": [
    "setosa_stats = {\n",
    "    'percentile': np.percentile(setosa_data['SepalLengthCm'], 50),\n",
    "    'mean': np.mean(setosa_data['SepalLengthCm']),\n",
    "    'std_dev': np.std(setosa_data['SepalLengthCm'])\n",
    "}"
   ]
  },
  {
   "cell_type": "code",
   "execution_count": null,
   "id": "2330c57e",
   "metadata": {
    "id": "2330c57e"
   },
   "outputs": [],
   "source": [
    "versicolor_stats = {\n",
    "    'percentile': np.percentile(versicolor_data['SepalLengthCm'], 50),\n",
    "    'mean': np.mean(versicolor_data['SepalLengthCm']),\n",
    "    'std_dev': np.std(versicolor_data['SepalLengthCm'])\n",
    "}"
   ]
  },
  {
   "cell_type": "code",
   "execution_count": null,
   "id": "812e9942",
   "metadata": {
    "id": "812e9942"
   },
   "outputs": [],
   "source": [
    "print('Statistics for Iris Setosa:')\n",
    "print(setosa_stats)\n",
    "print('')\n",
    "\n",
    "print('Statistics for Iris Versicolor:')\n",
    "print(versicolor_stats)"
   ]
  }
 ],
 "metadata": {
  "colab": {
   "provenance": []
  },
  "kernelspec": {
   "display_name": "Python 3 (ipykernel)",
   "language": "python",
   "name": "python3"
  },
  "language_info": {
   "codemirror_mode": {
    "name": "ipython",
    "version": 3
   },
   "file_extension": ".py",
   "mimetype": "text/x-python",
   "name": "python",
   "nbconvert_exporter": "python",
   "pygments_lexer": "ipython3",
   "version": "3.12.0"
  }
 },
 "nbformat": 4,
 "nbformat_minor": 5
}
