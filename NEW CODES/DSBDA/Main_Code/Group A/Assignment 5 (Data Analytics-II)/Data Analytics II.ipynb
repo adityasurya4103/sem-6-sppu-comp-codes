{
 "cells": [
  {
   "cell_type": "code",
   "execution_count": null,
   "id": "8ae7e842",
   "metadata": {
    "executionInfo": {
     "elapsed": 7,
     "status": "ok",
     "timestamp": 1682348780365,
     "user": {
      "displayName": "Vaibhav Londhe",
      "userId": "09082172285023416812"
     },
     "user_tz": -330
    },
    "id": "73bea437"
   },
   "outputs": [],
   "source": [
    "import pandas as pd\n",
    "import numpy as np\n",
    "import seaborn as sns\n",
    "import matplotlib.pyplot as plt"
   ]
  },
  {
   "cell_type": "code",
   "execution_count": null,
   "id": "9b433ad6",
   "metadata": {
    "colab": {
     "background_save": true,
     "base_uri": "https://localhost:8080/",
     "height": 328
    },
    "executionInfo": {
     "elapsed": 8,
     "status": "error",
     "timestamp": 1682348780366,
     "user": {
      "displayName": "Vaibhav Londhe",
      "userId": "09082172285023416812"
     },
     "user_tz": -330
    },
    "id": "08ed214f"
   },
   "outputs": [],
   "source": [
    "data = pd.read_csv('Social_Network_Ads.csv')"
   ]
  },
  {
   "cell_type": "code",
   "execution_count": null,
   "id": "333cefdc",
   "metadata": {
    "executionInfo": {
     "elapsed": 6,
     "status": "aborted",
     "timestamp": 1682348780366,
     "user": {
      "displayName": "Vaibhav Londhe",
      "userId": "09082172285023416812"
     },
     "user_tz": -330
    },
    "id": "4f4ad851"
   },
   "outputs": [],
   "source": [
    "data"
   ]
  },
  {
   "cell_type": "code",
   "execution_count": null,
   "id": "7079100b",
   "metadata": {
    "executionInfo": {
     "elapsed": 6,
     "status": "aborted",
     "timestamp": 1682348780366,
     "user": {
      "displayName": "Vaibhav Londhe",
      "userId": "09082172285023416812"
     },
     "user_tz": -330
    },
    "id": "ca833fef"
   },
   "outputs": [],
   "source": [
    "data.head(5)"
   ]
  },
  {
   "cell_type": "code",
   "execution_count": null,
   "id": "b00dec5f",
   "metadata": {
    "executionInfo": {
     "elapsed": 7,
     "status": "aborted",
     "timestamp": 1682348780367,
     "user": {
      "displayName": "Vaibhav Londhe",
      "userId": "09082172285023416812"
     },
     "user_tz": -330
    },
    "id": "7b16fadb"
   },
   "outputs": [],
   "source": [
    "data.tail()"
   ]
  },
  {
   "cell_type": "code",
   "execution_count": null,
   "id": "17e535ff",
   "metadata": {
    "executionInfo": {
     "elapsed": 7,
     "status": "aborted",
     "timestamp": 1682348780367,
     "user": {
      "displayName": "Vaibhav Londhe",
      "userId": "09082172285023416812"
     },
     "user_tz": -330
    },
    "id": "c5ad809c"
   },
   "outputs": [],
   "source": [
    "data.shape"
   ]
  },
  {
   "cell_type": "code",
   "execution_count": null,
   "id": "6f218c97",
   "metadata": {
    "executionInfo": {
     "elapsed": 7,
     "status": "aborted",
     "timestamp": 1682348780367,
     "user": {
      "displayName": "Vaibhav Londhe",
      "userId": "09082172285023416812"
     },
     "user_tz": -330
    },
    "id": "eefb3c5e"
   },
   "outputs": [],
   "source": [
    "data.columns"
   ]
  },
  {
   "cell_type": "code",
   "execution_count": null,
   "id": "ec82bda8",
   "metadata": {
    "executionInfo": {
     "elapsed": 3205,
     "status": "aborted",
     "timestamp": 1682348780367,
     "user": {
      "displayName": "Vaibhav Londhe",
      "userId": "09082172285023416812"
     },
     "user_tz": -330
    },
    "id": "eec75073"
   },
   "outputs": [],
   "source": [
    "data.describe()"
   ]
  },
  {
   "cell_type": "code",
   "execution_count": null,
   "id": "21baf4e3",
   "metadata": {
    "executionInfo": {
     "elapsed": 3202,
     "status": "aborted",
     "timestamp": 1682348780368,
     "user": {
      "displayName": "Vaibhav Londhe",
      "userId": "09082172285023416812"
     },
     "user_tz": -330
    },
    "id": "fc844ba4"
   },
   "outputs": [],
   "source": [
    "data.isnull().sum()"
   ]
  },
  {
   "cell_type": "code",
   "execution_count": null,
   "id": "5d5a339c",
   "metadata": {
    "executionInfo": {
     "elapsed": 3200,
     "status": "aborted",
     "timestamp": 1682348780368,
     "user": {
      "displayName": "Vaibhav Londhe",
      "userId": "09082172285023416812"
     },
     "user_tz": -330
    },
    "id": "ec08afe5"
   },
   "outputs": [],
   "source": [
    "data.iloc[:,2:4]"
   ]
  },
  {
   "cell_type": "code",
   "execution_count": null,
   "id": "651c8e4a",
   "metadata": {
    "executionInfo": {
     "elapsed": 3196,
     "status": "aborted",
     "timestamp": 1682348780368,
     "user": {
      "displayName": "Vaibhav Londhe",
      "userId": "09082172285023416812"
     },
     "user_tz": -330
    },
    "id": "34f666bc"
   },
   "outputs": [],
   "source": [
    "data.iloc[:,2:4].values"
   ]
  },
  {
   "cell_type": "code",
   "execution_count": null,
   "id": "f1c6fcf3",
   "metadata": {
    "executionInfo": {
     "elapsed": 10,
     "status": "aborted",
     "timestamp": 1682348782647,
     "user": {
      "displayName": "Vaibhav Londhe",
      "userId": "09082172285023416812"
     },
     "user_tz": -330
    },
    "id": "40ecbab8"
   },
   "outputs": [],
   "source": [
    "sns.set_style('whitegrid')\n",
    "data['Age'].hist(bins=30)\n",
    "plt.xlabel('Age')"
   ]
  },
  {
   "cell_type": "code",
   "execution_count": null,
   "id": "719d1c0d",
   "metadata": {
    "executionInfo": {
     "elapsed": 10,
     "status": "aborted",
     "timestamp": 1682348782648,
     "user": {
      "displayName": "Vaibhav Londhe",
      "userId": "09082172285023416812"
     },
     "user_tz": -330
    },
    "id": "afb27e7e"
   },
   "outputs": [],
   "source": [
    "sns.jointplot(x='Age', y='EstimatedSalary', data = data)"
   ]
  },
  {
   "cell_type": "code",
   "execution_count": null,
   "id": "0c288516",
   "metadata": {
    "executionInfo": {
     "elapsed": 10,
     "status": "aborted",
     "timestamp": 1682348782649,
     "user": {
      "displayName": "Vaibhav Londhe",
      "userId": "09082172285023416812"
     },
     "user_tz": -330
    },
    "id": "d92abb59"
   },
   "outputs": [],
   "source": [
    "sns.jointplot(x='Age',y='EstimatedSalary',data= data,color='green')"
   ]
  },
  {
   "cell_type": "code",
   "execution_count": null,
   "id": "f1088582",
   "metadata": {
    "executionInfo": {
     "elapsed": 10,
     "status": "aborted",
     "timestamp": 1682348782649,
     "user": {
      "displayName": "Vaibhav Londhe",
      "userId": "09082172285023416812"
     },
     "user_tz": -330
    },
    "id": "6bc26b72"
   },
   "outputs": [],
   "source": [
    "sns.pairplot(data,hue='Purchased',palette='bwr')"
   ]
  },
  {
   "cell_type": "code",
   "execution_count": null,
   "id": "295ca263",
   "metadata": {
    "executionInfo": {
     "elapsed": 11,
     "status": "aborted",
     "timestamp": 1682348782650,
     "user": {
      "displayName": "Vaibhav Londhe",
      "userId": "09082172285023416812"
     },
     "user_tz": -330
    },
    "id": "116fc3b8"
   },
   "outputs": [],
   "source": [
    "from sklearn.model_selection import train_test_split"
   ]
  },
  {
   "cell_type": "code",
   "execution_count": null,
   "id": "505ee445",
   "metadata": {
    "executionInfo": {
     "elapsed": 10,
     "status": "aborted",
     "timestamp": 1682348782650,
     "user": {
      "displayName": "Vaibhav Londhe",
      "userId": "09082172285023416812"
     },
     "user_tz": -330
    },
    "id": "cfcbf6af"
   },
   "outputs": [],
   "source": [
    "X = data[['Age','EstimatedSalary']]\n",
    "y = data['Purchased']"
   ]
  },
  {
   "cell_type": "code",
   "execution_count": null,
   "id": "265fbace",
   "metadata": {
    "executionInfo": {
     "elapsed": 11,
     "status": "aborted",
     "timestamp": 1682348782651,
     "user": {
      "displayName": "Vaibhav Londhe",
      "userId": "09082172285023416812"
     },
     "user_tz": -330
    },
    "id": "5c11b256"
   },
   "outputs": [],
   "source": [
    "X_train, X_test, y_train, y_test = train_test_split(X, y, test_size=0.25, random_state=0)"
   ]
  },
  {
   "cell_type": "code",
   "execution_count": null,
   "id": "3184892a",
   "metadata": {
    "executionInfo": {
     "elapsed": 11,
     "status": "aborted",
     "timestamp": 1682348782651,
     "user": {
      "displayName": "Vaibhav Londhe",
      "userId": "09082172285023416812"
     },
     "user_tz": -330
    },
    "id": "4a256ad7"
   },
   "outputs": [],
   "source": [
    "X_train.shape"
   ]
  },
  {
   "cell_type": "code",
   "execution_count": null,
   "id": "cdafdbe7",
   "metadata": {
    "executionInfo": {
     "elapsed": 12,
     "status": "aborted",
     "timestamp": 1682348782652,
     "user": {
      "displayName": "Vaibhav Londhe",
      "userId": "09082172285023416812"
     },
     "user_tz": -330
    },
    "id": "83521ed7"
   },
   "outputs": [],
   "source": [
    "X_test.shape"
   ]
  },
  {
   "cell_type": "code",
   "execution_count": null,
   "id": "dab867b3",
   "metadata": {
    "executionInfo": {
     "elapsed": 12,
     "status": "aborted",
     "timestamp": 1682348782652,
     "user": {
      "displayName": "Vaibhav Londhe",
      "userId": "09082172285023416812"
     },
     "user_tz": -330
    },
    "id": "bc75b616"
   },
   "outputs": [],
   "source": [
    "y_train.shape"
   ]
  },
  {
   "cell_type": "code",
   "execution_count": null,
   "id": "ee1db611",
   "metadata": {
    "executionInfo": {
     "elapsed": 12,
     "status": "aborted",
     "timestamp": 1682348782653,
     "user": {
      "displayName": "Vaibhav Londhe",
      "userId": "09082172285023416812"
     },
     "user_tz": -330
    },
    "id": "adb1bfae"
   },
   "outputs": [],
   "source": [
    "y_test.shape"
   ]
  },
  {
   "cell_type": "code",
   "execution_count": null,
   "id": "aa162d53",
   "metadata": {
    "executionInfo": {
     "elapsed": 13,
     "status": "aborted",
     "timestamp": 1682348782654,
     "user": {
      "displayName": "Vaibhav Londhe",
      "userId": "09082172285023416812"
     },
     "user_tz": -330
    },
    "id": "59c57b56"
   },
   "outputs": [],
   "source": [
    "from sklearn.linear_model import LogisticRegression"
   ]
  },
  {
   "cell_type": "code",
   "execution_count": null,
   "id": "783c0ea0",
   "metadata": {
    "executionInfo": {
     "elapsed": 13,
     "status": "aborted",
     "timestamp": 1682348782654,
     "user": {
      "displayName": "Vaibhav Londhe",
      "userId": "09082172285023416812"
     },
     "user_tz": -330
    },
    "id": "11cb08ab"
   },
   "outputs": [],
   "source": [
    "logmodel = LogisticRegression()\n",
    "logmodel.fit(X_train,y_train)"
   ]
  },
  {
   "cell_type": "code",
   "execution_count": null,
   "id": "bbd78130",
   "metadata": {
    "executionInfo": {
     "elapsed": 14,
     "status": "aborted",
     "timestamp": 1682348782655,
     "user": {
      "displayName": "Vaibhav Londhe",
      "userId": "09082172285023416812"
     },
     "user_tz": -330
    },
    "id": "6fad6544"
   },
   "outputs": [],
   "source": [
    "predictions = logmodel.predict(X_test)"
   ]
  },
  {
   "cell_type": "code",
   "execution_count": null,
   "id": "18a780e1",
   "metadata": {
    "executionInfo": {
     "elapsed": 13,
     "status": "aborted",
     "timestamp": 1682348782655,
     "user": {
      "displayName": "Vaibhav Londhe",
      "userId": "09082172285023416812"
     },
     "user_tz": -330
    },
    "id": "3065dba7"
   },
   "outputs": [],
   "source": [
    "from sklearn.metrics import classification_report"
   ]
  },
  {
   "cell_type": "code",
   "execution_count": null,
   "id": "e3677a55",
   "metadata": {
    "executionInfo": {
     "elapsed": 13,
     "status": "aborted",
     "timestamp": 1682348782655,
     "user": {
      "displayName": "Vaibhav Londhe",
      "userId": "09082172285023416812"
     },
     "user_tz": -330
    },
    "id": "ed9e91ae"
   },
   "outputs": [],
   "source": [
    "print(classification_report(y_test,predictions))"
   ]
  },
  {
   "cell_type": "code",
   "execution_count": null,
   "id": "212fac74",
   "metadata": {
    "executionInfo": {
     "elapsed": 14,
     "status": "aborted",
     "timestamp": 1682348782656,
     "user": {
      "displayName": "Vaibhav Londhe",
      "userId": "09082172285023416812"
     },
     "user_tz": -330
    },
    "id": "f52034a5"
   },
   "outputs": [],
   "source": [
    "from sklearn.metrics import confusion_matrix\n",
    "\n",
    "cm = confusion_matrix(y_test, predictions)\n",
    "print(cm)"
   ]
  }
 ],
 "metadata": {
  "colab": {
   "name": "",
   "version": ""
  },
  "kernelspec": {
   "display_name": "Python 3 (ipykernel)",
   "language": "python",
   "name": "python3"
  },
  "language_info": {
   "codemirror_mode": {
    "name": "ipython",
    "version": 3
   },
   "file_extension": ".py",
   "mimetype": "text/x-python",
   "name": "python",
   "nbconvert_exporter": "python",
   "pygments_lexer": "ipython3",
   "version": "3.12.0"
  }
 },
 "nbformat": 4,
 "nbformat_minor": 5
}
