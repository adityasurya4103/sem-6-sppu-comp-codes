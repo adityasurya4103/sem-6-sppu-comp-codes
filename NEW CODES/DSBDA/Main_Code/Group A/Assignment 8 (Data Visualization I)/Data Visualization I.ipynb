{
 "cells": [
  {
   "cell_type": "code",
   "execution_count": null,
   "id": "f60a202d",
   "metadata": {
    "id": "f60a202d"
   },
   "outputs": [],
   "source": [
    "import pandas as pd\n",
    "import numpy as np\n",
    "import matplotlib.pyplot as plt\n",
    "import seaborn as sns"
   ]
  },
  {
   "cell_type": "code",
   "execution_count": null,
   "id": "efec815e",
   "metadata": {
    "id": "efec815e"
   },
   "outputs": [],
   "source": [
    "dataset = pd.read_csv('titanic.csv')\n",
    "dataset.head()"
   ]
  },
  {
   "cell_type": "code",
   "execution_count": null,
   "id": "41dced74",
   "metadata": {
    "id": "41dced74"
   },
   "outputs": [],
   "source": [
    "dataset.shape"
   ]
  },
  {
   "cell_type": "code",
   "execution_count": null,
   "id": "cd310dd7",
   "metadata": {
    "id": "cd310dd7"
   },
   "outputs": [],
   "source": [
    "dataset.isnull()"
   ]
  },
  {
   "cell_type": "code",
   "execution_count": null,
   "id": "5dd380b3",
   "metadata": {
    "id": "5dd380b3"
   },
   "outputs": [],
   "source": [
    "dataset.isnull().sum()"
   ]
  },
  {
   "cell_type": "code",
   "execution_count": null,
   "id": "a4929bdb",
   "metadata": {
    "id": "a4929bdb"
   },
   "outputs": [],
   "source": [
    "dataset = dataset.dropna()"
   ]
  },
  {
   "cell_type": "code",
   "execution_count": null,
   "id": "c2e579f6",
   "metadata": {
    "id": "c2e579f6"
   },
   "outputs": [],
   "source": [
    "sns.distplot(dataset['fare'])"
   ]
  },
  {
   "cell_type": "code",
   "execution_count": null,
   "id": "1a3a3324",
   "metadata": {
    "id": "1a3a3324"
   },
   "outputs": [],
   "source": [
    "sns.distplot(dataset['fare'], kde=False)"
   ]
  },
  {
   "cell_type": "code",
   "execution_count": null,
   "id": "bc1a7eb7",
   "metadata": {
    "id": "bc1a7eb7"
   },
   "outputs": [],
   "source": [
    "sns.distplot(dataset['fare'], kde=False, bins=10)  "
   ]
  }
 ],
 "metadata": {
  "colab": {
   "provenance": []
  },
  "kernelspec": {
   "display_name": "Python 3 (ipykernel)",
   "language": "python",
   "name": "python3"
  },
  "language_info": {
   "codemirror_mode": {
    "name": "ipython",
    "version": 3
   },
   "file_extension": ".py",
   "mimetype": "text/x-python",
   "name": "python",
   "nbconvert_exporter": "python",
   "pygments_lexer": "ipython3",
   "version": "3.12.0"
  }
 },
 "nbformat": 4,
 "nbformat_minor": 5
}
