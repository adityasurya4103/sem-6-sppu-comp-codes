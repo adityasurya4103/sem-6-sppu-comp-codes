{
 "cells": [
  {
   "cell_type": "code",
   "execution_count": null,
   "metadata": {
    "id": "Nl2iIU-E0ccQ"
   },
   "outputs": [],
   "source": [
    "import pandas as pd\n",
    "import numpy as np\n",
    "import matplotlib.pyplot as plt"
   ]
  },
  {
   "cell_type": "code",
   "execution_count": null,
   "metadata": {
    "id": "CFvB-tl60wn9"
   },
   "outputs": [],
   "source": [
    "df = pd.read_csv(\"Academic-Performance-Dataset.csv\")\n",
    "df"
   ]
  },
  {
   "cell_type": "code",
   "execution_count": null,
   "metadata": {
    "id": "2SqHQquH1Vjy"
   },
   "outputs": [],
   "source": [
    "df.shape"
   ]
  },
  {
   "cell_type": "code",
   "execution_count": null,
   "metadata": {
    "id": "xSegb07d1eSq"
   },
   "outputs": [],
   "source": [
    "df.dtypes"
   ]
  },
  {
   "cell_type": "code",
   "execution_count": null,
   "metadata": {
    "id": "gQYBtGGi14z4"
   },
   "outputs": [],
   "source": [
    "df.isna().sum()"
   ]
  },
  {
   "cell_type": "code",
   "execution_count": null,
   "metadata": {
    "id": "UYvQ8cY92TtL"
   },
   "outputs": [],
   "source": [
    "cols_with_na = []\n",
    "for col in df.columns:\n",
    "    if df[col].isna().any():\n",
    "        cols_with_na.append(col)\n",
    "\n",
    "cols_with_na"
   ]
  },
  {
   "cell_type": "code",
   "execution_count": null,
   "metadata": {
    "id": "Qyn-5FKy2kFy"
   },
   "outputs": [],
   "source": [
    "for col in cols_with_na:\n",
    "    col_dt = df[col].dtypes\n",
    "    if (col_dt == 'int64' or col_dt == 'float64'):\n",
    "        outliers = (df[col] < 0) | (100 < df[col])\n",
    "        df.loc[outliers, col] = np.nan\n",
    "        df[col] = df[col].fillna(df[col].mean())\n",
    "    else:\n",
    "        df[col] = df[col].fillna(method='ffill')\n",
    "df"
   ]
  },
  {
   "cell_type": "code",
   "execution_count": null,
   "metadata": {
    "id": "9WB2OG3G2prQ"
   },
   "outputs": [],
   "source": [
    "df['Total Marks']=df['Phy_marks']+df['Che_marks']+df['EM1_marks']+df['PPS_marks']+df['SME_marks']\n",
    "df['Percentage']=df['Total Marks']/5\n",
    "\n",
    "df"
   ]
  },
  {
   "cell_type": "code",
   "execution_count": null,
   "metadata": {
    "id": "qU0XO5VG20NE"
   },
   "outputs": [],
   "source": [
    "import matplotlib.pyplot as plt\n",
    "plt.rcParams[\"figure.figsize\"] = (9, 6)\n",
    "df_list = ['Attendence', 'Phy_marks', 'Che_marks', 'EM1_marks', 'PPS_marks', 'SME_marks']\n",
    "fig, axes = plt.subplots(2, 3)\n",
    "fig.set_dpi(120)\n",
    "\n",
    "count=0\n",
    "for r in range(2):\n",
    "    for c in range(3):\n",
    "        _ = df[df_list[count]].plot(kind = 'box', ax=axes[r,c])\n",
    "        count+=1"
   ]
  },
  {
   "cell_type": "code",
   "execution_count": null,
   "metadata": {
    "id": "0HDsTohM25g9"
   },
   "outputs": [],
   "source": [
    "Q1 = df['Che_marks'].quantile(0.25)\n",
    "Q3 = df['Che_marks'].quantile(0.75)\n",
    "IQR = Q3 - Q1\n",
    "\n",
    "Lower_limit = Q1 - 1.5 * IQR\n",
    "Upper_limit = Q3 + 1.5 * IQR\n",
    "\n",
    "print(f'Q1 = {Q1}, Q3 = {Q3}, IQR = {IQR}, Lower_limit = {Lower_limit}, Upper_limit = {Upper_limit}')\n"
   ]
  },
  {
   "cell_type": "code",
   "execution_count": null,
   "metadata": {
    "id": "tBe9pP3Wzt1Y"
   },
   "outputs": [],
   "source": [
    "df[(df['Che_marks'] < Lower_limit) | (df['Che_marks'] > Upper_limit)]"
   ]
  },
  {
   "cell_type": "code",
   "execution_count": null,
   "metadata": {
    "id": "J41cw7dNzuif"
   },
   "outputs": [],
   "source": [
    "def BinningFunction(column, cut_points, labels = None) :\n",
    "    break_points=[column.min()] + cut_points + [column.max( )]\n",
    "    print('Gradding According to percentage \\n>60 = F \\n60-70 = B \\n70-80 = A\\n80-100 = O')\n",
    "    return pd.cut(column, bins=break_points, labels=labels, include_lowest=True)"
   ]
  },
  {
   "cell_type": "code",
   "execution_count": null,
   "metadata": {
    "id": "rEVChRBfz3HA"
   },
   "outputs": [],
   "source": [
    "cut_points=[60, 70, 80]\n",
    "labels=['F', 'B', 'A', 'O']\n",
    "df['Grade']=BinningFunction(df['Percentage'], cut_points, labels)\n",
    "\n",
    "df"
   ]
  }
 ],
 "metadata": {
  "colab": {
   "provenance": []
  },
  "kernelspec": {
   "display_name": "Python 3 (ipykernel)",
   "language": "python",
   "name": "python3"
  },
  "language_info": {
   "codemirror_mode": {
    "name": "ipython",
    "version": 3
   },
   "file_extension": ".py",
   "mimetype": "text/x-python",
   "name": "python",
   "nbconvert_exporter": "python",
   "pygments_lexer": "ipython3",
   "version": "3.12.0"
  }
 },
 "nbformat": 4,
 "nbformat_minor": 4
}
