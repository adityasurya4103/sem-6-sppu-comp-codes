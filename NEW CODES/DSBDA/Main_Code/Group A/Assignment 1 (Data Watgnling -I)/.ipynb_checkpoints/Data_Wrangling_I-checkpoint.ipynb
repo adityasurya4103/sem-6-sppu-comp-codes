{
 "cells": [
  {
   "cell_type": "code",
   "execution_count": null,
   "id": "e54a25cb",
   "metadata": {
    "id": "e54a25cb"
   },
   "outputs": [],
   "source": [
    "import pandas as pd\n",
    "import numpy as np "
   ]
  },
  {
   "cell_type": "code",
   "execution_count": null,
   "id": "5a475825",
   "metadata": {
    "id": "5a475825"
   },
   "outputs": [],
   "source": [
    "df = pd.read_csv(\"covid_19_clean_complete_2022.csv\")\n",
    "df.head()\n"
   ]
  },
  {
   "cell_type": "code",
   "execution_count": null,
   "id": "74452a52",
   "metadata": {
    "id": "74452a52"
   },
   "outputs": [],
   "source": [
    "df.isna().any()\n"
   ]
  },
  {
   "cell_type": "code",
   "execution_count": null,
   "id": "68b734ba",
   "metadata": {
    "id": "68b734ba"
   },
   "outputs": [],
   "source": [
    "df.describe()                     "
   ]
  },
  {
   "cell_type": "code",
   "execution_count": null,
   "id": "17de4d1c",
   "metadata": {
    "id": "17de4d1c"
   },
   "outputs": [],
   "source": [
    "df.shape            "
   ]
  },
  {
   "cell_type": "code",
   "execution_count": null,
   "id": "5ae61dbd",
   "metadata": {
    "id": "5ae61dbd"
   },
   "outputs": [],
   "source": [
    "df.dtypes           "
   ]
  },
  {
   "cell_type": "code",
   "execution_count": null,
   "id": "5b65215c",
   "metadata": {
    "id": "5b65215c"
   },
   "outputs": [],
   "source": [
    "df['Date'] = pd.to_datetime(df['Date'])\n",
    "df['Country/Region'] = df['Country/Region'].astype('string')\n",
    "df.dtypes"
   ]
  },
  {
   "cell_type": "code",
   "execution_count": null,
   "id": "dX3MFTcBlVll",
   "metadata": {
    "id": "dX3MFTcBlVll"
   },
   "outputs": [],
   "source": [
    "x=pd.get_dummies(df['WHO Region'])\n",
    "df.drop('Province/State', axis=1, inplace=True)\n",
    "df=pd.concat([df,x],axis=1)\n",
    "df"
   ]
  },
  {
   "cell_type": "code",
   "execution_count": null,
   "id": "2f9108a6",
   "metadata": {
    "id": "2f9108a6"
   },
   "outputs": [],
   "source": [
    "df = df.drop(['WHO Region','Country/Region'], axis=1)\n",
    "df.head()"
   ]
  }
 ],
 "metadata": {
  "colab": {
   "provenance": []
  },
  "kernelspec": {
   "display_name": "Python 3 (ipykernel)",
   "language": "python",
   "name": "python3"
  },
  "language_info": {
   "codemirror_mode": {
    "name": "ipython",
    "version": 3
   },
   "file_extension": ".py",
   "mimetype": "text/x-python",
   "name": "python",
   "nbconvert_exporter": "python",
   "pygments_lexer": "ipython3",
   "version": "3.12.0"
  }
 },
 "nbformat": 4,
 "nbformat_minor": 5
}
