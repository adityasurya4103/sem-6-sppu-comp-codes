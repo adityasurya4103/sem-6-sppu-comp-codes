{
 "cells": [
  {
   "cell_type": "code",
   "execution_count": null,
   "id": "f728e368",
   "metadata": {
    "id": "f728e368"
   },
   "outputs": [],
   "source": [
    "import pandas as pd\n",
    "import numpy as np\n",
    "import matplotlib.pyplot as plt\n",
    "import seaborn as sns"
   ]
  },
  {
   "cell_type": "code",
   "execution_count": null,
   "id": "90514b80",
   "metadata": {
    "id": "90514b80"
   },
   "outputs": [],
   "source": [
    "Iris = pd.read_csv('Iris.csv')\n",
    "Iris"
   ]
  },
  {
   "cell_type": "code",
   "execution_count": null,
   "id": "189d1be4",
   "metadata": {
    "id": "189d1be4"
   },
   "outputs": [],
   "source": [
    "Iris.shape"
   ]
  },
  {
   "cell_type": "code",
   "execution_count": null,
   "id": "f81414f1",
   "metadata": {
    "id": "f81414f1"
   },
   "outputs": [],
   "source": [
    "Iris.describe()"
   ]
  },
  {
   "cell_type": "code",
   "execution_count": null,
   "id": "8cb22983",
   "metadata": {
    "id": "8cb22983"
   },
   "outputs": [],
   "source": [
    "Iris.dtypes"
   ]
  },
  {
   "cell_type": "code",
   "execution_count": null,
   "id": "fbea28a9",
   "metadata": {
    "id": "fbea28a9"
   },
   "outputs": [],
   "source": [
    "Iris.isnull().sum()"
   ]
  },
  {
   "cell_type": "code",
   "execution_count": null,
   "id": "e139cbfc",
   "metadata": {
    "id": "e139cbfc"
   },
   "outputs": [],
   "source": [
    "print(Iris.groupby('Species').size())"
   ]
  },
  {
   "cell_type": "code",
   "execution_count": null,
   "id": "366465bb",
   "metadata": {
    "id": "366465bb"
   },
   "outputs": [],
   "source": [
    "Iris.plot(kind='box', subplots=True, layout=(3,2), figsize=(8,12));"
   ]
  },
  {
   "cell_type": "code",
   "execution_count": null,
   "id": "0283e56e",
   "metadata": {
    "id": "0283e56e"
   },
   "outputs": [],
   "source": [
    "Iris.hist(figsize=(12,12))\n",
    "plt.show()"
   ]
  },
  {
   "cell_type": "code",
   "execution_count": null,
   "id": "33fe97f8",
   "metadata": {
    "id": "33fe97f8"
   },
   "outputs": [],
   "source": [
    "Iris.corr(numeric_only=\"True\")"
   ]
  },
  {
   "cell_type": "code",
   "execution_count": null,
   "id": "7bf15102",
   "metadata": {
    "id": "7bf15102"
   },
   "outputs": [],
   "source": [
    "sns.heatmap(Iris.corr(numeric_only=\"True\"), annot=True, cmap='Wistia')"
   ]
  },
  {
   "cell_type": "code",
   "execution_count": null,
   "id": "4c65beaa",
   "metadata": {
    "id": "4c65beaa"
   },
   "outputs": [],
   "source": [
    "sns.pairplot(Iris)"
   ]
  },
  {
   "cell_type": "code",
   "execution_count": null,
   "id": "0815037b",
   "metadata": {
    "id": "0815037b"
   },
   "outputs": [],
   "source": [
    "from sklearn.datasets import load_iris\n",
    "import pandas as pd\n",
    "\n",
    "iris = load_iris()\n",
    "iris_df = pd.DataFrame(iris.data, columns=iris.feature_names)\n",
    "iris_df['target'] = iris.target"
   ]
  },
  {
   "cell_type": "code",
   "execution_count": null,
   "id": "be7a98c1",
   "metadata": {
    "id": "be7a98c1"
   },
   "outputs": [],
   "source": [
    "import matplotlib.pyplot as plt\n",
    "\n",
    "iris_df.hist()\n",
    "plt.show()"
   ]
  },
  {
   "cell_type": "code",
   "execution_count": null,
   "id": "8c0f723a",
   "metadata": {
    "id": "8c0f723a"
   },
   "outputs": [],
   "source": [
    "iris_df.boxplot()\n",
    "plt.show()"
   ]
  },
  {
   "cell_type": "code",
   "execution_count": null,
   "id": "8080214c",
   "metadata": {
    "id": "8080214c"
   },
   "outputs": [],
   "source": [
    "iris_df.describe()"
   ]
  },
  {
   "cell_type": "code",
   "execution_count": null,
   "id": "IlrHogXJhNcJ",
   "metadata": {
    "id": "IlrHogXJhNcJ"
   },
   "outputs": [],
   "source": [
    "sns.boxplot(data=Iris, orient=\"h\")\n",
    "plt.show()"
   ]
  },
  {
   "cell_type": "code",
   "execution_count": null,
   "id": "r58CCNhGhzJP",
   "metadata": {
    "id": "r58CCNhGhzJP"
   },
   "outputs": [],
   "source": [
    "sns.boxplot(x = 'sepal width (cm)', data = iris_df)"
   ]
  },
  {
   "cell_type": "code",
   "execution_count": null,
   "id": "iaZiBB41imi4",
   "metadata": {
    "id": "iaZiBB41imi4"
   },
   "outputs": [],
   "source": [
    "Q1 = Iris.SepalWidthCm.quantile(0.25)\n",
    "Q3 = Iris.SepalWidthCm.quantile(0.75)\n",
    "IQR = Q3-Q1\n",
    "print(IQR)"
   ]
  },
  {
   "cell_type": "code",
   "execution_count": null,
   "id": "4u2_VD6zjuQm",
   "metadata": {
    "id": "4u2_VD6zjuQm"
   },
   "outputs": [],
   "source": [
    "data = Iris[Iris.SepalWidthCm < (Q1 - 1.5 * IQR) / (Iris.SepalWidthCm > (Q3 + 1.5 * IQR))]"
   ]
  },
  {
   "cell_type": "code",
   "execution_count": null,
   "id": "5toukd0kkEhj",
   "metadata": {
    "id": "5toukd0kkEhj"
   },
   "outputs": [],
   "source": [
    "data"
   ]
  }
 ],
 "metadata": {
  "colab": {
   "provenance": []
  },
  "kernelspec": {
   "display_name": "Python 3 (ipykernel)",
   "language": "python",
   "name": "python3"
  },
  "language_info": {
   "codemirror_mode": {
    "name": "ipython",
    "version": 3
   },
   "file_extension": ".py",
   "mimetype": "text/x-python",
   "name": "python",
   "nbconvert_exporter": "python",
   "pygments_lexer": "ipython3",
   "version": "3.12.0"
  }
 },
 "nbformat": 4,
 "nbformat_minor": 5
}
